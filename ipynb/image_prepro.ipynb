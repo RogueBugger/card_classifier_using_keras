{
  "nbformat": 4,
  "nbformat_minor": 0,
  "metadata": {
    "colab": {
      "name": "image_prepro.ipynb",
      "provenance": [],
      "collapsed_sections": [],
      "include_colab_link": true
    },
    "kernelspec": {
      "name": "python3",
      "display_name": "Python 3"
    }
  },
  "cells": [
    {
      "cell_type": "markdown",
      "metadata": {
        "id": "view-in-github",
        "colab_type": "text"
      },
      "source": [
        "<a href=\"https://colab.research.google.com/github/RogueBugger/card_classifier_using_keras/blob/master/ipynb/image_prepro.ipynb\" target=\"_parent\"><img src=\"https://colab.research.google.com/assets/colab-badge.svg\" alt=\"Open In Colab\"/></a>"
      ]
    },
    {
      "cell_type": "code",
      "metadata": {
        "id": "7fF87ly-SFz8",
        "colab_type": "code",
        "colab": {}
      },
      "source": [
        "from google.colab import drive\n",
        "drive.mount('/content/gdrive')\n",
        "import cv2 as cv\n",
        "import os\n",
        "import numpy as np\n",
        "\n",
        "os.chdir('/content/gdrive/My Drive/dataset/New/validation/')\n",
        "\n",
        "\n",
        "for j in os.listdir('/content/gdrive/My Drive/dataset/validatin/'):\n",
        "  for i in (os.listdir('/content/gdrive/My Drive/dataset/validatin/'+j)):\n",
        "    img = cv.imread('/content/gdrive/My Drive/dataset/validatin/'+j+'/'+i)\n",
        "    img = cv.resize(img,dsize = (260, 163),interpolation=cv.INTER_CUBIC)  \n",
        "    cv.imwrite(i, img)\n"
      ],
      "execution_count": 0,
      "outputs": []
    }
  ]
}
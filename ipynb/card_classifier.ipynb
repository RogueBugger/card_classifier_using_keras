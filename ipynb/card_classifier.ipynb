{
  "nbformat": 4,
  "nbformat_minor": 0,
  "metadata": {
    "colab": {
      "name": "card_classifier.ipynb",
      "provenance": [],
      "collapsed_sections": [],
      "include_colab_link": true
    },
    "kernelspec": {
      "name": "python3",
      "display_name": "Python 3"
    },
    "accelerator": "TPU"
  },
  "cells": [
    {
      "cell_type": "markdown",
      "metadata": {
        "id": "view-in-github",
        "colab_type": "text"
      },
      "source": [
        "<a href=\"https://colab.research.google.com/github/RogueBugger/card_classifier_using_keras/blob/master/ipynb/card_classifier.ipynb\" target=\"_parent\"><img src=\"https://colab.research.google.com/assets/colab-badge.svg\" alt=\"Open In Colab\"/></a>"
      ]
    },
    {
      "cell_type": "code",
      "metadata": {
        "id": "xAJxdTFKLWm9",
        "colab_type": "code",
        "outputId": "f94614fc-2278-44f2-c00e-6f3a33548b44",
        "colab": {
          "base_uri": "https://localhost:8080/",
          "height": 513
        }
      },
      "source": [
        "#!pip install --upgrade tensorflow\n",
        "#!pip install --upgrade pip setuptools wheel\n",
        "#!pip install -I tensorflow\n",
        "#!pip install -I keras\n",
        "from keras.models import Sequential\n",
        "from keras.layers import Conv2D, MaxPooling2D\n",
        "from keras.layers import Flatten, Activation, Dense, Dropout\n",
        "from keras.preprocessing.image import ImageDataGenerator\n",
        "from keras import backend as k\n",
        "from google.colab import drive\n",
        "#drive.mount('/content/gdrive')\n",
        "#mport matplotlib.pyplot as plt\n",
        "#import matplotlib.image as mpimg\n",
        "#img=mpimg.imread('./gdrive/My Drive/dataset/atm/IMG_20191217_183620_1.jpg')\n",
        "#imgplot = plt.imshow(img)\n",
        "#plt.show()\n",
        "\n",
        "\n",
        "#Note = image need to be rescaled to low resolution for training.\n",
        "image_width = 260\n",
        "image_height = 163\n",
        "img_shape = (image_width, image_height, 1)\n",
        "\n",
        "\n",
        "\n",
        "\n",
        "model = Sequential()\n",
        "model.add(Conv2D(32, (3,3), input_shape = img_shape))\n",
        "model.add(Activation('relu'))\n",
        "model.add(MaxPooling2D(pool_size = (2, 2)))\n",
        "\n",
        "model.add(Conv2D(32, (3,3)))\n",
        "model.add(Activation('relu'))\n",
        "model.add(MaxPooling2D(pool_size = (2, 2)))\n",
        "\n",
        "model.add(Conv2D(64, (3, 3)))\n",
        "model.add(Activation('relu'))\n",
        "model.add(MaxPooling2D(pool_size = (2, 2)))\n",
        "\n",
        "model.add(Conv2D(64, (3, 3)))\n",
        "model.add(Activation('relu'))\n",
        "model.add(MaxPooling2D(pool_size = (2, 2)))\n",
        "\n",
        "model.add(Flatten())\n",
        "model.add(Dense(64))\n",
        "model.add(Activation('relu'))\n",
        "model.add(Dropout(0.5))\n",
        "model.add(Dense(3))\n",
        "model.add(Activation('softmax'))\n",
        "\n",
        "\n",
        "model.compile(loss='categorical_crossentropy', \n",
        "\t\t\toptimizer='rmsprop', \n",
        "\t\t\tmetrics=['accuracy']) \n",
        "\n",
        "train_datagen = ImageDataGenerator(\n",
        "        rescale=1./255,\n",
        "        shear_range=0.2,\n",
        "        zoom_range=0.2,\n",
        "        horizontal_flip=True)\n",
        "\n",
        "test_datagen = ImageDataGenerator(rescale=1./255)\n",
        "\n",
        "train_generator = train_datagen.flow_from_directory(\n",
        "        '/content/gdrive/My Drive/dataset/New/Train/',\n",
        "        target_size=(image_width, image_height),\n",
        "        color_mode='grayscale',\n",
        "        batch_size=45,\n",
        "        class_mode='categorical')\n",
        "\n",
        "validation_generator = test_datagen.flow_from_directory(\n",
        "        '/content/gdrive/My Drive/dataset/New/validation/',\n",
        "        target_size=(image_width, image_height),\n",
        "        batch_size=45,\n",
        "        color_mode='grayscale',\n",
        "        class_mode='categorical')\n",
        "\n",
        "model.fit_generator(\n",
        "        train_generator,\n",
        "        steps_per_epoch=32,\n",
        "        epochs=12,\n",
        "        validation_data=validation_generator,\n",
        "        validation_steps=32)\n",
        "\n",
        "\n",
        "model.save('model_multi_class_final.h5')"
      ],
      "execution_count": 25,
      "outputs": [
        {
          "output_type": "stream",
          "text": [
            "Found 522 images belonging to 3 classes.\n",
            "Found 100 images belonging to 3 classes.\n",
            "Epoch 1/12\n"
          ],
          "name": "stdout"
        },
        {
          "output_type": "stream",
          "text": [
            "/usr/local/lib/python3.6/dist-packages/PIL/Image.py:914: UserWarning: Palette images with Transparency   expressed in bytes should be converted to RGBA images\n",
            "  'to RGBA images')\n"
          ],
          "name": "stderr"
        },
        {
          "output_type": "stream",
          "text": [
            "32/32 [==============================] - 89s 3s/step - loss: 0.8613 - acc: 0.5946 - val_loss: 1.1479 - val_acc: 0.2394\n",
            "Epoch 2/12\n",
            "32/32 [==============================] - 86s 3s/step - loss: 0.5789 - acc: 0.7385 - val_loss: 1.0232 - val_acc: 0.4483\n",
            "Epoch 3/12\n",
            "32/32 [==============================] - 87s 3s/step - loss: 0.4940 - acc: 0.8127 - val_loss: 0.7730 - val_acc: 0.7934\n",
            "Epoch 4/12\n",
            "32/32 [==============================] - 86s 3s/step - loss: 0.3227 - acc: 0.8991 - val_loss: 0.7269 - val_acc: 0.8193\n",
            "Epoch 5/12\n",
            "32/32 [==============================] - 87s 3s/step - loss: 0.2447 - acc: 0.9222 - val_loss: 1.0233 - val_acc: 0.7118\n",
            "Epoch 6/12\n",
            "32/32 [==============================] - 87s 3s/step - loss: 0.2447 - acc: 0.9275 - val_loss: 0.5829 - val_acc: 0.8389\n",
            "Epoch 7/12\n",
            "32/32 [==============================] - 85s 3s/step - loss: 0.2100 - acc: 0.9336 - val_loss: 0.6638 - val_acc: 0.8183\n",
            "Epoch 8/12\n",
            "32/32 [==============================] - 88s 3s/step - loss: 0.1635 - acc: 0.9555 - val_loss: 0.5413 - val_acc: 0.8427\n",
            "Epoch 9/12\n",
            "32/32 [==============================] - 87s 3s/step - loss: 0.1808 - acc: 0.9516 - val_loss: 0.8250 - val_acc: 0.8294\n",
            "Epoch 10/12\n",
            "32/32 [==============================] - 86s 3s/step - loss: 0.1475 - acc: 0.9581 - val_loss: 0.7946 - val_acc: 0.8413\n",
            "Epoch 11/12\n",
            "32/32 [==============================] - 87s 3s/step - loss: 0.1105 - acc: 0.9715 - val_loss: 0.9214 - val_acc: 0.8379\n",
            "Epoch 12/12\n",
            "32/32 [==============================] - 86s 3s/step - loss: 0.1264 - acc: 0.9593 - val_loss: 0.9212 - val_acc: 0.8512\n"
          ],
          "name": "stdout"
        }
      ]
    }
  ]
}
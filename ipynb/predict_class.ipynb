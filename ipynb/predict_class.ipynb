{
  "nbformat": 4,
  "nbformat_minor": 0,
  "metadata": {
    "colab": {
      "name": "predict.ipynb",
      "provenance": [],
      "collapsed_sections": [],
      "include_colab_link": true
    },
    "kernelspec": {
      "name": "python3",
      "display_name": "Python 3"
    }
  },
  "cells": [
    {
      "cell_type": "markdown",
      "metadata": {
        "id": "view-in-github",
        "colab_type": "text"
      },
      "source": [
        "<a href=\"https://colab.research.google.com/github/RogueBugger/card_classifier_using_keras/blob/master/ipynb/predict_class.ipynb\" target=\"_parent\"><img src=\"https://colab.research.google.com/assets/colab-badge.svg\" alt=\"Open In Colab\"/></a>"
      ]
    },
    {
      "cell_type": "code",
      "metadata": {
        "id": "334np5-rq4r7",
        "colab_type": "code",
        "outputId": "0aa7a6aa-19dd-4420-955d-bc630e55ab31",
        "colab": {
          "base_uri": "https://localhost:8080/",
          "height": 68
        }
      },
      "source": [
        "#!pip install --upgrade tensorflow\n",
        "#!pip install --upgrade pip setuptools wheel\n",
        "#!pip install -I tensorflow\n",
        "#!pip install -I keras\n",
        "from google.colab import drive\n",
        "#drive.mount('/content/gdrive')\n",
        "import cv2 as cv\n",
        "from keras.models import load_model\n",
        "from keras.preprocessing import image\n",
        "import numpy as np\n",
        "#https://stackoverflow.com/questions/50227925/how-to-predict-from-saved-model-in-keras\n",
        "\n",
        "model = load_model('/content/gdrive/My Drive/dataset/model_multi_class_final.h5')\n",
        "\n",
        "model.compile(loss='categorical_crossentropy', \n",
        "\t\t\toptimizer='rmsprop', \n",
        "\t\t\tmetrics=['accuracy']) \n",
        "'''\n",
        "test_image = image.load_img('/content/gdrive/My Drive/dataset/test.jpg', target_size = (163, 260)) \n",
        "test_image = image.img_to_array(test_image)\n",
        "test_image = np.expand_dims(test_image, axis = 0)\n",
        "'''\n",
        "\n",
        "\n",
        "#img = cv.imread('/content/gdrive/My Drive/dataset/test.jpg')\n",
        "#result = model.predict(test_image)\n",
        "#result = model.predict(img)\n",
        "img = cv.imread('/content/gdrive/My Drive/dataset/test.jpg',0)\n",
        "img=cv.resize(img,dsize=(163, 260), interpolation=cv.INTER_CUBIC)\n",
        "img=np.expand_dims(img,0)\n",
        "img=np.expand_dims(img,axis=3)\n",
        "\n",
        "result = model.predict(img)\n",
        "print(result)\n",
        "\n",
        "img = cv.imread('/content/gdrive/My Drive/dataset/tes1t.jpg',0)\n",
        "img=cv.resize(img,dsize=(163, 260), interpolation=cv.INTER_CUBIC)\n",
        "img=np.expand_dims(img,0)\n",
        "img=np.expand_dims(img,axis=3)\n",
        "\n",
        "result = model.predict(img)\n",
        "print(result)\n",
        "\n",
        "img = cv.imread('/content/gdrive/My Drive/dataset/tes2t.jpg',0)\n",
        "img=cv.resize(img,dsize=(163, 260), interpolation=cv.INTER_CUBIC)\n",
        "img=np.expand_dims(img,0)\n",
        "img=np.expand_dims(img,axis=3)\n",
        "\n",
        "result = model.predict(img)\n",
        "print(result)"
      ],
      "execution_count": 50,
      "outputs": [
        {
          "output_type": "stream",
          "text": [
            "[[1. 0. 0.]]\n",
            "[[0. 1. 0.]]\n",
            "[[0. 0. 1.]]\n"
          ],
          "name": "stdout"
        }
      ]
    }
  ]
}
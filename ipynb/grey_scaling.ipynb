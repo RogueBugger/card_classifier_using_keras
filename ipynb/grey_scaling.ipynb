{
  "nbformat": 4,
  "nbformat_minor": 0,
  "metadata": {
    "colab": {
      "name": "grey_scaling.ipynb",
      "provenance": [],
      "collapsed_sections": [],
      "include_colab_link": true
    },
    "kernelspec": {
      "name": "python3",
      "display_name": "Python 3"
    }
  },
  "cells": [
    {
      "cell_type": "markdown",
      "metadata": {
        "id": "view-in-github",
        "colab_type": "text"
      },
      "source": [
        "<a href=\"https://colab.research.google.com/github/RogueBugger/card_classifier_using_keras/blob/master/ipynb/grey_scaling.ipynb\" target=\"_parent\"><img src=\"https://colab.research.google.com/assets/colab-badge.svg\" alt=\"Open In Colab\"/></a>"
      ]
    },
    {
      "cell_type": "code",
      "metadata": {
        "id": "6loFT_0qbeHp",
        "colab_type": "code",
        "outputId": "94b150d2-371a-496b-f1b8-d9db253b1b0f",
        "colab": {
          "base_uri": "https://localhost:8080/",
          "height": 34
        }
      },
      "source": [
        "from google.colab import drive\n",
        "#drive.mount('/content/gdrive')\n",
        "import cv2 as cv\n",
        "import os\n",
        "\n",
        "img = cv.imread('/content/gdrive/My Drive/dataset/drivee.jpg')\n",
        "img = cv.resize(img, dsize = (260, 163), interpolation=cv.INTER_CUBIC)\n",
        "os.chdir('/content/gdrive/My Drive/dataset')\n",
        "cv.imwrite('tes2t.jpg', img)\n",
        "print(img.shape)"
      ],
      "execution_count": 0,
      "outputs": [
        {
          "output_type": "stream",
          "text": [
            "(163, 260, 3)\n"
          ],
          "name": "stdout"
        }
      ]
    }
  ]
}